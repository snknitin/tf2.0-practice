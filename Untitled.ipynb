{
 "cells": [
  {
   "cell_type": "code",
   "execution_count": 18,
   "metadata": {
    "collapsed": true
   },
   "outputs": [],
   "source": [
    "import collections\n",
    "import numpy as np\n",
    "import operator"
   ]
  },
  {
   "cell_type": "code",
   "execution_count": 16,
   "metadata": {
    "collapsed": true
   },
   "outputs": [],
   "source": [
    "nums = [71,105,105,101,104,151,136,136,70,112,62,113,100,135,64,100,76,136,150,141,63,141,146,143,64,143,141,145,142,137,63,66,64,64,62,143,67,65,147,142,65,143,64,64,146,143,65,141,140,66]\n",
    "ctr = collections.Counter(nums)"
   ]
  },
  {
   "cell_type": "code",
   "execution_count": 38,
   "metadata": {},
   "outputs": [
    {
     "data": {
      "text/plain": [
       "OrderedDict([((146, 143), 2),\n",
       "             ((64, 64), 2),\n",
       "             ((143, 64), 2),\n",
       "             ((143, 141), 1),\n",
       "             ((62, 143), 1),\n",
       "             ((150, 141), 1),\n",
       "             ((143, 67), 1),\n",
       "             ((151, 136), 1),\n",
       "             ((64, 146), 1),\n",
       "             ((141, 145), 1),\n",
       "             ((65, 147), 1),\n",
       "             ((64, 100), 1),\n",
       "             ((142, 137), 1),\n",
       "             ((141, 63), 1),\n",
       "             ((113, 100), 1),\n",
       "             ((141, 140), 1),\n",
       "             ((135, 64), 1),\n",
       "             ((62, 113), 1),\n",
       "             ((147, 142), 1),\n",
       "             ((63, 141), 1),\n",
       "             ((65, 141), 1),\n",
       "             ((136, 70), 1),\n",
       "             ((145, 142), 1),\n",
       "             ((71, 105), 1),\n",
       "             ((100, 76), 1),\n",
       "             ((112, 62), 1),\n",
       "             ((143, 65), 1),\n",
       "             ((63, 66), 1),\n",
       "             ((105, 101), 1),\n",
       "             ((65, 143), 1),\n",
       "             ((70, 112), 1),\n",
       "             ((101, 104), 1),\n",
       "             ((140, 66), 1),\n",
       "             ((100, 135), 1),\n",
       "             ((104, 151), 1),\n",
       "             ((64, 143), 1),\n",
       "             ((136, 150), 1),\n",
       "             ((67, 65), 1),\n",
       "             ((105, 105), 1),\n",
       "             ((66, 64), 1),\n",
       "             ((142, 65), 1),\n",
       "             ((136, 136), 1),\n",
       "             ((141, 146), 1),\n",
       "             ((137, 63), 1),\n",
       "             ((64, 62), 1),\n",
       "             ((76, 136), 1)])"
      ]
     },
     "execution_count": 38,
     "metadata": {},
     "output_type": "execute_result"
    }
   ],
   "source": [
    "bi = list(zip(nums,nums[1:]))\n",
    "bi_ctr = collections.Counter(bi)\n",
    "sorted_bi = sorted(bi_ctr.items(), key=lambda kv: kv[1],reverse=True)\n",
    "sorted_dict_bi = collections.OrderedDict(sorted_bi)\n",
    "sorted_dict_bi"
   ]
  },
  {
   "cell_type": "code",
   "execution_count": 65,
   "metadata": {
    "collapsed": true
   },
   "outputs": [],
   "source": [
    "d = collections.defaultdict(list)\n",
    "\n",
    "for (first, second), quantity in sorted_dict_bi.items():\n",
    "    d[first].append(second) "
   ]
  },
  {
   "cell_type": "code",
   "execution_count": 66,
   "metadata": {},
   "outputs": [
    {
     "data": {
      "text/plain": [
       "defaultdict(list,\n",
       "            {62: [143, 113],\n",
       "             63: [141, 66],\n",
       "             64: [64, 146, 100, 143, 62],\n",
       "             65: [147, 141, 143],\n",
       "             66: [64],\n",
       "             67: [65],\n",
       "             70: [112],\n",
       "             71: [105],\n",
       "             76: [136],\n",
       "             100: [76, 135],\n",
       "             101: [104],\n",
       "             104: [151],\n",
       "             105: [101, 105],\n",
       "             112: [62],\n",
       "             113: [100],\n",
       "             135: [64],\n",
       "             136: [70, 150, 136],\n",
       "             137: [63],\n",
       "             140: [66],\n",
       "             141: [145, 63, 140, 146],\n",
       "             142: [137, 65],\n",
       "             143: [64, 141, 67, 65],\n",
       "             145: [142],\n",
       "             146: [143],\n",
       "             147: [142],\n",
       "             150: [141],\n",
       "             151: [136]})"
      ]
     },
     "execution_count": 66,
     "metadata": {},
     "output_type": "execute_result"
    }
   ],
   "source": [
    "d"
   ]
  },
  {
   "cell_type": "code",
   "execution_count": 92,
   "metadata": {},
   "outputs": [
    {
     "data": {
      "text/plain": [
       "defaultdict(list,\n",
       "            {'A': ['N', 'L', 'S', 'R', 'T'],\n",
       "             'B': ['E'],\n",
       "             'C': ['H', 'E', 'O'],\n",
       "             'D': ['E'],\n",
       "             'E': ['R', 'D', 'S', 'A', 'N'],\n",
       "             'H': ['E', 'A', 'I'],\n",
       "             'I': ['N', 'S', 'O', 'T', 'C'],\n",
       "             'L': ['E', 'L', 'I'],\n",
       "             'M': ['E', 'A'],\n",
       "             'N': ['E', 'T', 'G', 'D'],\n",
       "             'O': ['F', 'R', 'N', 'M', 'U'],\n",
       "             'R': ['E', 'A', 'I', 'O'],\n",
       "             'S': ['E', 'I', 'T'],\n",
       "             'T': ['H', 'I', 'E', 'O'],\n",
       "             'U': ['R'],\n",
       "             'V': ['E']})"
      ]
     },
     "execution_count": 92,
     "metadata": {},
     "output_type": "execute_result"
    }
   ],
   "source": [
    "db"
   ]
  },
  {
   "cell_type": "code",
   "execution_count": 58,
   "metadata": {
    "collapsed": true
   },
   "outputs": [],
   "source": [
    "bigrams = {'TH'  :100.3,\n",
    "'HE'  : 86.7,\n",
    "'IN'  : 68.6,\n",
    "'ER'  : 57.8,\n",
    "'AN'  : 56.0,\n",
    "'RE'  : 52.3,\n",
    "'ON'  : 49.6,\n",
    "'AT'  : 41.9,\n",
    "'EN'  : 41.0,\n",
    "'ND'  : 38.1,\n",
    "'TI'  : 37.9,\n",
    "'ES'  : 37.8,\n",
    "'OR'  : 36.0,\n",
    "'TE'  : 34.0,\n",
    "'OF'  : 33.1,\n",
    "'ED'  : 32.9,\n",
    "'IS'  : 31.8,\n",
    "'IT'  : 31.7,\n",
    "'AL'  : 30.7,\n",
    "'AR'  : 30.3,\n",
    "'ST'  : 29.7,\n",
    "'TO'  : 29.4,\n",
    "'NT'  : 29.4,\n",
    "'NG'  : 26.9,\n",
    "'SE'  : 26.3,\n",
    "'HA'  : 26.1,\n",
    "'AS'  : 24.6,\n",
    "'OU'  : 24.5,\n",
    "'IO'  : 23.5,\n",
    "'LE'  : 23.4,\n",
    "'VE'  : 23.3,\n",
    "'CO'  : 22.4,\n",
    "'ME'  : 22.4,\n",
    "'DE'  : 21.6,\n",
    "'HI'  : 21.5,\n",
    "'RI'  : 20.5,\n",
    "'RO'  : 20.5,\n",
    "'IC'  : 19.7,\n",
    "'NE'  : 19.5,\n",
    "'EA'  : 19.4,\n",
    "'RA'  : 19.3,\n",
    "'CE'  : 18.4,\n",
    "'LI'  : 17.6,\n",
    "'CH'  : 16.9,\n",
    "'LL'  : 16.3,\n",
    "'BE'  : 16.2,\n",
    "'MA'  : 15.9,\n",
    "'SI'  : 15.5,\n",
    "'OM'  : 15.4,\n",
    "'UR'  : 15.3}"
   ]
  },
  {
   "cell_type": "code",
   "execution_count": 59,
   "metadata": {},
   "outputs": [
    {
     "data": {
      "text/plain": [
       "OrderedDict([('RE', 2),\n",
       "             ('IN', 2),\n",
       "             ('ER', 2),\n",
       "             ('TH', 2),\n",
       "             ('AN', 2),\n",
       "             ('HE', 2),\n",
       "             ('TI', 1),\n",
       "             ('SE', 1),\n",
       "             ('CH', 1),\n",
       "             ('NE', 1),\n",
       "             ('RA', 1),\n",
       "             ('UR', 1),\n",
       "             ('ME', 1),\n",
       "             ('IS', 1),\n",
       "             ('IO', 1),\n",
       "             ('IT', 1),\n",
       "             ('ED', 1),\n",
       "             ('NT', 1),\n",
       "             ('CE', 1),\n",
       "             ('AL', 1),\n",
       "             ('VE', 1),\n",
       "             ('ES', 1),\n",
       "             ('BE', 1),\n",
       "             ('AS', 1),\n",
       "             ('SI', 1),\n",
       "             ('HA', 1),\n",
       "             ('OF', 1),\n",
       "             ('TE', 1),\n",
       "             ('EA', 1),\n",
       "             ('OR', 1),\n",
       "             ('LE', 1),\n",
       "             ('EN', 1),\n",
       "             ('ST', 1),\n",
       "             ('AR', 1),\n",
       "             ('TO', 1),\n",
       "             ('AT', 1),\n",
       "             ('ON', 1),\n",
       "             ('NG', 1),\n",
       "             ('LL', 1),\n",
       "             ('ND', 1),\n",
       "             ('CO', 1),\n",
       "             ('RI', 1),\n",
       "             ('HI', 1),\n",
       "             ('RO', 1),\n",
       "             ('DE', 1),\n",
       "             ('IC', 1),\n",
       "             ('OM', 1),\n",
       "             ('LI', 1),\n",
       "             ('MA', 1),\n",
       "             ('OU', 1)])"
      ]
     },
     "execution_count": 59,
     "metadata": {},
     "output_type": "execute_result"
    }
   ],
   "source": [
    "bigrams = { x:int(np.ceil(round(y)/50)) for x,y in bigrams.items()}\n",
    "sorted_z = sorted(bigrams.items(), key=lambda kv: kv[1],reverse=True)\n",
    "sorted_bigrams = collections.OrderedDict(sorted_z)\n",
    "sorted_bigrams"
   ]
  },
  {
   "cell_type": "code",
   "execution_count": 91,
   "metadata": {},
   "outputs": [],
   "source": [
    "db = collections.defaultdict(list)\n",
    "\n",
    "for st, quantity in sorted_bigrams.items():\n",
    "    db[st[0]].append(st[1])\n"
   ]
  },
  {
   "cell_type": "code",
   "execution_count": 22,
   "metadata": {},
   "outputs": [
    {
     "data": {
      "text/plain": [
       "OrderedDict([(64, 6),\n",
       "             (143, 5),\n",
       "             (141, 4),\n",
       "             (65, 3),\n",
       "             (136, 3),\n",
       "             (66, 2),\n",
       "             (142, 2),\n",
       "             (146, 2),\n",
       "             (100, 2),\n",
       "             (105, 2),\n",
       "             (62, 2),\n",
       "             (63, 2),\n",
       "             (67, 1),\n",
       "             (70, 1),\n",
       "             (71, 1),\n",
       "             (137, 1),\n",
       "             (76, 1),\n",
       "             (145, 1),\n",
       "             (147, 1),\n",
       "             (150, 1),\n",
       "             (151, 1),\n",
       "             (101, 1),\n",
       "             (104, 1),\n",
       "             (135, 1),\n",
       "             (112, 1),\n",
       "             (113, 1),\n",
       "             (140, 1)])"
      ]
     },
     "execution_count": 22,
     "metadata": {},
     "output_type": "execute_result"
    }
   ],
   "source": [
    "sorted_x = sorted(ctr.items(), key=lambda kv: kv[1],reverse=True)\n",
    "sorted_dict = collections.OrderedDict(sorted_x)\n",
    "sorted_dict"
   ]
  },
  {
   "cell_type": "code",
   "execution_count": 93,
   "metadata": {
    "collapsed": true
   },
   "outputs": [],
   "source": [
    "words = \" \".join([str(x) for x in nums])"
   ]
  },
  {
   "cell_type": "code",
   "execution_count": 94,
   "metadata": {
    "collapsed": true
   },
   "outputs": [],
   "source": [
    "words = words.replace('64',' e' )\n",
    "words = words.replace('143','t' )\n",
    "#words = words.replace('141','e' )\n",
    "# words = words.replace('65','o' )\n",
    "# words = words.replace('136','o' )"
   ]
  },
  {
   "cell_type": "code",
   "execution_count": 95,
   "metadata": {},
   "outputs": [
    {
     "data": {
      "text/plain": [
       "'71 105 105 101 104 151 136 136 70 112 62 113 100 135  e 100 76 136 150 141 63 141 146 t  e t 141 145 142 137 63 66  e  e 62 t 67 65 147 142 65 t  e  e 146 t 65 141 140 66'"
      ]
     },
     "execution_count": 95,
     "metadata": {},
     "output_type": "execute_result"
    }
   ],
   "source": [
    "words"
   ]
  },
  {
   "cell_type": "code",
   "execution_count": 24,
   "metadata": {},
   "outputs": [
    {
     "data": {
      "text/plain": [
       "OrderedDict([('E', 6),\n",
       "             ('T', 5),\n",
       "             ('O', 4),\n",
       "             ('I', 4),\n",
       "             ('N', 4),\n",
       "             ('A', 4),\n",
       "             ('R', 3),\n",
       "             ('S', 3),\n",
       "             ('H', 3),\n",
       "             ('U', 2),\n",
       "             ('D', 2),\n",
       "             ('L', 2),\n",
       "             ('M', 2),\n",
       "             ('C', 2),\n",
       "             ('B', 1),\n",
       "             ('G', 1),\n",
       "             ('Y', 1),\n",
       "             ('F', 1),\n",
       "             ('K', 1),\n",
       "             ('P', 1),\n",
       "             ('V', 1),\n",
       "             ('W', 1),\n",
       "             ('X', 0),\n",
       "             ('J', 0),\n",
       "             ('Q', 0),\n",
       "             ('Z', 0)])"
      ]
     },
     "execution_count": 24,
     "metadata": {},
     "output_type": "execute_result"
    }
   ],
   "source": [
    "alph = {'E':12.02,\n",
    "'T':9.10,\n",
    "'A':8.12,\n",
    "'O':7.68,\n",
    "'I':7.31,\n",
    "'N':6.95,\n",
    "'S':6.28,\n",
    "'R':6.02,\n",
    "'H':5.92,\n",
    "'D':4.32,\n",
    "'L':3.98,\n",
    "'U':2.88,\n",
    "'C':2.71,\n",
    "'M':2.61,\n",
    "'F':2.30,\n",
    "'Y':2.11,\n",
    "'W':2.09,\n",
    "'G':2.03,\n",
    "'P':1.82,\n",
    "'B':1.49,\n",
    "'V':1.11,\n",
    "'K':0.69,\n",
    "'X':0.17,\n",
    "'Q':0.11,\n",
    "'J':0.10,\n",
    "'Z':0.07}\n",
    "alph = { x:int(np.ceil(round(y)/2)) for x,y in alph.items()}\n",
    "sorted_y = sorted(alph.items(), key=lambda kv: kv[1],reverse=True)\n",
    "sorted_alph = collections.OrderedDict(sorted_y)\n",
    "sorted_alph"
   ]
  }
 ],
 "metadata": {
  "kernelspec": {
   "display_name": "tfdl",
   "language": "python",
   "name": "tfdl"
  },
  "language_info": {
   "codemirror_mode": {
    "name": "ipython",
    "version": 3
   },
   "file_extension": ".py",
   "mimetype": "text/x-python",
   "name": "python",
   "nbconvert_exporter": "python",
   "pygments_lexer": "ipython3",
   "version": "3.5.4"
  }
 },
 "nbformat": 4,
 "nbformat_minor": 2
}
